{
  "nbformat": 4,
  "nbformat_minor": 0,
  "metadata": {
    "kernelspec": {
      "display_name": "R",
      "language": "R",
      "name": "ir"
    },
    "language_info": {
      "codemirror_mode": "r",
      "file_extension": ".r",
      "mimetype": "text/x-r-source",
      "name": "R",
      "pygments_lexer": "r",
      "version": "3.6.1"
    },
    "colab": {
      "name": "Golf_Putting.ipynb",
      "provenance": [],
      "collapsed_sections": [],
      "include_colab_link": true
    }
  },
  "cells": [
    {
      "cell_type": "markdown",
      "metadata": {
        "id": "view-in-github",
        "colab_type": "text"
      },
      "source": [
        "<a href=\"https://colab.research.google.com/github/jgabry/bayes-workflow-book/blob/master/jupyter/R/Golf_Putting.ipynb\" target=\"_parent\"><img src=\"https://colab.research.google.com/assets/colab-badge.svg\" alt=\"Open In Colab\"/></a>"
      ]
    },
    {
      "cell_type": "markdown",
      "metadata": {
        "id": "JHjlpSGzflBV",
        "colab_type": "text"
      },
      "source": [
        "# Bayesian Workflow - Golf Putting Ability\n",
        "\n",
        "This IR notebook contains a simple nonlinear regression model of golf putting ability.  It provides gentle introduction to Stan modeling and the practice of model building and model expansion."
      ]
    },
    {
      "cell_type": "markdown",
      "metadata": {
        "id": "mZ7f6T-kuqql",
        "colab_type": "text"
      },
      "source": [
        "## About this notebook\n",
        "\n",
        "In each session, you must run the code cells in order, in order to introduce all packages, files, and variables into the runtime environment.  If you have a Google account, you can run this notebook using [Google Colaboratory](https://research.google.com/colaboratory/faq.html), the free, cloud-based Jupyter notebook environment.  This [handout on Jupyter and RStudio](https://cse.buffalo.edu/~bina/cse487/spring2018/Lectures/JupyterHandoutJan31.pdf) contains instructions for installing and running notebooks locally."
      ]
    },
    {
      "cell_type": "code",
      "metadata": {
        "id": "onGYfNt1c57z",
        "colab_type": "code",
        "colab": {}
      },
      "source": [
        "# Install pre-compiled R packages for StanHeaders, bayesplot, and rstan\n",
        "if (!file.exists(\"RStanLibs.tgz\")) {\n",
        "  system(\"wget https://storage.googleapis.com/rlibs-rstan-plus/RStanLibs.tgz\", intern=T)\n",
        "  system(\"tar zxf RStanLibs.tgz\", intern=T)\n",
        "  system(\"mv RStanLibs/* /usr/lib/R/site-library\")\n",
        "}\n",
        "\n",
        "# libraries, R config\n",
        "library(\"bayesplot\")\n",
        "library(\"dplyr\")\n",
        "library(\"reshape2\")\n",
        "library(\"lubridate\")\n",
        "library(\"utils\")\n",
        "library(\"rstan\")\n",
        "Sys.setenv(USE_CXX14 = 1)\n",
        "options(mc.cores = parallel::detectCores())\n",
        "rstan_options(auto_write = TRUE)\n",
        "options(digits = 2)\n",
        "options(htmltools.dir.version = FALSE)\n",
        "set.seed(1123)\n",
        "\n",
        "# helper functions\n",
        "print_file <- function(file, nlines=-1L) {\n",
        "  cat(paste(readLines(file, n=nlines), \"\\n\", sep=\"\"), sep=\"\")\n",
        "}\n",
        "logit <- function (x) {\n",
        "  log(x/(1-x))\n",
        "}\n",
        "invlogit <- function (x) {\n",
        "    1/(1+exp(-x))\n",
        "}"
      ],
      "execution_count": 0,
      "outputs": []
    },
    {
      "cell_type": "code",
      "metadata": {
        "id": "QkQFiA7udHWb",
        "colab_type": "code",
        "colab": {}
      },
      "source": [
        ""
      ],
      "execution_count": 0,
      "outputs": []
    },
    {
      "cell_type": "markdown",
      "metadata": {
        "id": "peFeBjmvjiuG",
        "colab_type": "text"
      },
      "source": [
        "## Golf putting data\n",
        "\n",
        "The golf putting data is taken from the textbook _Statistics: A Bayesian Perspective_ by Donald Berry, 1996.  It consists of a set of triples (`x`, `n`, `y`), where `x` is the distance in feet from the hole, `n` is the number of tries, and `y` is the number of successes.  The distances range from 2 to 20 feet.  This data was collected from PGA golf tournaments, i.e., it was collected from professional golfers.  There are many more putts taken at short distances, because an when a pro golfer misses a putt, the ball usually winds up within a few feet of the hole."
      ]
    },
    {
      "cell_type": "code",
      "metadata": {
        "id": "OuwnCi-3jnOj",
        "colab_type": "code",
        "cellView": "both",
        "colab": {}
      },
      "source": [
        "if (!file.exists(\"golf_data.txt\")) {\n",
        "  download.file(\"https://raw.githubusercontent.com/jgabry/bayes-workflow-book/master/data/golf.txt\",\n",
        "                destfile=\"golf_data.txt\", quiet=T)\n",
        "}\n",
        "golf <- read.table(\"golf_data.txt\", header=TRUE, skip=2)\n",
        "x <- golf$x\n",
        "y <- golf$y\n",
        "n <- golf$n\n",
        "se <- sqrt((y/n)*(1-y/n)/n)\n",
        "golf$se <- se\n",
        "print_file(\"golf_data.txt\", nlines=8)"
      ],
      "execution_count": 0,
      "outputs": []
    },
    {
      "cell_type": "markdown",
      "metadata": {
        "id": "maoto0FOT-6y",
        "colab_type": "text"
      },
      "source": [
        "As a first visualization, we plot the proportion of successful puts as a function of distance from the hole, and showing the standard deviation for each.  Unsurprisingly, the probability of making the shot declines as a function of distance."
      ]
    },
    {
      "cell_type": "code",
      "metadata": {
        "id": "WM9sDnUiFKGO",
        "colab_type": "code",
        "cellView": "both",
        "colab": {}
      },
      "source": [
        "library(ggplot2)\n",
        "# scatterplot of data with error bars\n",
        "data_plot <- ggplot(golf, aes(x=x, y=y/n)) +\n",
        "  geom_point() +\n",
        "  geom_linerange(aes(ymin=y/n-se, ymax=y/n+se)) +\n",
        "  scale_x_continuous(limits=c(0,max(x)*1.05), expand=c(0,0)) +\n",
        "  scale_y_continuous(limits=c(0,1.02), expand=c(0,0), breaks=c(0.0, 0.2,0.4,0.6,0.8,1.0)) +\n",
        "  labs(x=\"Distance from hole (feet)\", y=\"Probability of success\") +\n",
        "  theme_classic() +\n",
        "  theme(axis.text.y = element_text(size=11, angle=90, hjust = 0.5, vjust = 0.5, margin=margin(l=10,r=10), colour=\"black\"),\n",
        "        axis.text.x = element_text(size=11, angle=0, hjust = 0.5, vjust = 0.5, margin=margin(t=10,b=10), colour=\"black\"),\n",
        "        axis.ticks.length = unit(0.25, \"cm\"), plot.title = element_text(hjust = 0.5, face=\"bold\", size=14))\n",
        "\n",
        "# add title, label success/attempts for each point\n",
        "golf_data_plot <- data_plot +\n",
        "  labs(title=\"Pro golf putting data\") +\n",
        "  geom_text(aes(label = paste(y, n, sep = \" / \")), nudge_x = 0.02, nudge_y = golf$se + 0.02, size=3, col=\"grey20\")\n",
        "golf_data_plot"
      ],
      "execution_count": 0,
      "outputs": []
    },
    {
      "cell_type": "markdown",
      "metadata": {
        "id": "LQ5MnF_MkSL8",
        "colab_type": "text"
      },
      "source": [
        "The error bars associated with each point $j$ in the above graph are\n",
        "simple binomial standard deviations, &nbsp; $\\sqrt{\\hat{p}_j(1-\\hat{p}_j)/n_j}$, &nbsp; where &nbsp; $\\hat{p_j}=y_j/n_j$ &nbsp; is the success rate for putts taken at distance $x_j$.  As $n$ increases, the standard deviation decreases."
      ]
    },
    {
      "cell_type": "markdown",
      "metadata": {
        "id": "TqeU1il2n1C7",
        "colab_type": "text"
      },
      "source": [
        "\n",
        "## Logistic regression\n",
        "\n",
        "Can we model the probability of success in golf putting as a function of `x`, the distance from the hole?\n",
        "The usual statistical practice is to use a simple regression model, in this case, a logistic regression:\n",
        "\n",
        "$$\n",
        "y_j\\sim\\mbox{binomial}(n_j, \\mbox{logit}^{-1}(a + bx_j)),\n",
        "\\mbox{ for } j=1,\\dots, J.\n",
        "$$\n",
        "\n",
        "In Stan, this model is coded as the following:"
      ]
    },
    {
      "cell_type": "code",
      "metadata": {
        "id": "HccXkFeXjnkM",
        "colab_type": "code",
        "cellView": "both",
        "colab": {}
      },
      "source": [
        "#@title\n",
        "if (!file.exists(\"golf_logistic.stan\")) {\n",
        "  download.file(\"https://raw.githubusercontent.com/jgabry/bayes-workflow-book/master/stan/golf_logistic.stan\",\n",
        "                destfile=\"golf_logistic.stan\", quiet=T)\n",
        "}\n",
        "print_file(\"golf_logistic.stan\")"
      ],
      "execution_count": 0,
      "outputs": []
    },
    {
      "cell_type": "markdown",
      "metadata": {
        "id": "mb_jK2lbmLgk",
        "colab_type": "text"
      },
      "source": [
        "Here is the result of fitting this model to the data:\n"
      ]
    },
    {
      "cell_type": "code",
      "metadata": {
        "id": "ttr0kM3qjn-i",
        "colab_type": "code",
        "colab": {}
      },
      "source": [
        "fit_logistic <- stan(\"golf_logistic.stan\", data=list(x=x, y=y, n=n, J=length(x)))\n",
        "print(fit_logistic, probs=c(0.25, 0.5, 0.75))"
      ],
      "execution_count": 0,
      "outputs": []
    },
    {
      "cell_type": "markdown",
      "metadata": {
        "id": "qiTizDSmA41_",
        "colab_type": "text"
      },
      "source": [
        "Stan has computed the posterior means $\\pm$ standard deviations of $a$\n",
        "and $b$ to be $2.23\\pm 0.06$ and $-0.26\\pm 0.01$, respectively. The\n",
        "Monte Carlo standard error of the mean of each of these parameters is\n",
        "0 (to two decimal places), indicating that the simulations have run\n",
        "long enough to estimate the posterior means precisely.  The posterior\n",
        "quantiles give a sense of the uncertainty in the parameters, with 50%\n",
        "posterior intervals of $[2.19,2.27]$ and $[-0.26,-0.25]$ for $a$ and\n",
        "$b$, respectively.  Finally, the values of $\\widehat{R}$ near 1 tell\n",
        "us that the simulations from Stan's four simulated chains have mixed\n",
        "well.\n",
        "\n",
        "The following graph shows the fit plotted along with the data:\n"
      ]
    },
    {
      "cell_type": "code",
      "metadata": {
        "id": "AqY2EJZzo8S1",
        "colab_type": "code",
        "cellView": "both",
        "colab": {}
      },
      "source": [
        "sims_logistic <- as.matrix(fit_logistic)\n",
        "a_hat <- median(sims_logistic[,\"a\"])\n",
        "b_hat <- median(sims_logistic[,\"b\"])\n",
        "x_plus = c(1:21)\n",
        "median_hat = invlogit(a_hat + b_hat * x_plus)\n",
        "curve_label = paste(\"Logistic regression, a = \", round(a_hat, 2), \", b = \", round(b_hat, 2), sep=\"\")\n",
        "curves = sapply(sample(nrow(sims_logistic), 20), function(i) {invlogit(sims_logistic[i,\"a\"] + sims_logistic[i,\"b\"]*x_plus)})\n",
        "curves_melted = melt(curves)\n",
        "median_melted = melt(median_hat)\n",
        "fit_plot <- data_plot + labs(title=\"Fitted logistic regression\")\n",
        "fit_plot <- fit_plot + geom_text(x=12, y=0.6, label=curve_label)\n",
        "fit_plot <- fit_plot + geom_line(data=curves_melted, aes(x=Var1, y=value, group=Var2), color=\"grey\")\n",
        "fit_plot <- fit_plot + geom_line(data=median_melted, aes(x=x_plus, y=value), size=0.5, color=\"blue\")\n",
        "suppressMessages(print(fit_plot))"
      ],
      "execution_count": 0,
      "outputs": []
    },
    {
      "cell_type": "markdown",
      "metadata": {
        "id": "nzLHxVIaor-d",
        "colab_type": "text"
      },
      "source": [
        "\n",
        "The thick line shows the fit corresponding to the posterior median\n",
        "estimates of the parameters $a$ and $b$; the light lines show 20 draws\n",
        "from the posterior distribution.\n",
        "\n"
      ]
    },
    {
      "cell_type": "markdown",
      "metadata": {
        "id": "PifH60g1HLFJ",
        "colab_type": "text"
      },
      "source": [
        "## Modeling from first principles\n",
        "\n",
        "As an alternative to logistic regression, we shall build a model from\n",
        "first principles and fit it to the data.  The graph below shows a\n",
        "simplified sketch of a golf shot.  The dotted line represents the\n",
        "angle within which the ball of radius $r$ must be hit so that it falls\n",
        "within the hole of radius $R$.  This threshold angle is\n",
        "$\\sin^{-1}((R-r)/x)$.\n",
        "\n",
        "<img src=\"https://raw.githubusercontent.com/jgabry/bayes-workflow-book/master/img/golfpicture.png\" width=\"80%\">\n",
        "\n",
        "The next step is to model human error.  We assume that the golfer is\n",
        "attempting to hit the ball completely straight but that many small\n",
        "factors interfere with this goal, so that the actual angle follows a\n",
        "normal distribution centered at 0 with some standard deviation\n",
        "$\\sigma$.\n",
        "\n",
        "The probability the ball goes in the hole is then the probability that\n",
        "the angle is less than the threshold; that is,\n",
        "$2\\Phi(\\sin^{-1}((R-r)/x)) - 1$, where $\\Phi$ is the cumulative normal\n",
        "distribution function.\n",
        "\n",
        "Our model then has two parts:\n",
        "$$y_j \\sim \\mbox{binomial}(n_j, p_j)$$\n",
        "$$p_j = 2\\Phi(\\sin^{-1}((R-r)/x)) - 1 , \\mbox{ for } j=1,\\dots, J.$$\n",
        "\n",
        "\n",
        "Here is the model in Stan:"
      ]
    },
    {
      "cell_type": "code",
      "metadata": {
        "id": "HOi9ngxZNPNi",
        "colab_type": "code",
        "colab": {}
      },
      "source": [
        "if (!file.exists(\"golf1_vec.stan\")) {\n",
        "  download.file(\"https://raw.githubusercontent.com/jgabry/bayes-workflow-book/master/stan/golf1_vec.stan\",\n",
        "                destfile=\"golf1_vec.stan\", quiet=T)\n",
        "}\n",
        "print_file(\"golf1_vec.stan\")"
      ],
      "execution_count": 0,
      "outputs": []
    },
    {
      "cell_type": "markdown",
      "metadata": {
        "id": "8WzlLJOKOhbm",
        "colab_type": "text"
      },
      "source": [
        "The data $J,n,x,y$ have already been set up as part of running the logistic model above; we just need to define\n",
        "$r$, the diameter of the golf ball,  and $R$ the diameter of the hole.  The golf ball and hole have diameters 1.68 and 4.25 inches, respectively, which we convert to feet."
      ]
    },
    {
      "cell_type": "code",
      "metadata": {
        "id": "Pa0C_gjITpyq",
        "colab_type": "code",
        "colab": {}
      },
      "source": [
        "r <- (1.68/2)/12\n",
        "R <- (4.25/2)/12\n",
        "fit_trig <- stan(\"golf1_vec.stan\", data=list(x=x, y=y, n=n, J=length(x), r=r, R=R))\n",
        "print(fit_trig, probs=c(0.25, 0.5, 0.75))"
      ],
      "execution_count": 0,
      "outputs": []
    },
    {
      "cell_type": "markdown",
      "metadata": {
        "id": "T_7P0isL-kfU",
        "colab_type": "text"
      },
      "source": [
        "The model has a single parameter, $\\sigma$.  From the output, we find\n",
        "that Stan has computed the posterior mean of $\\sigma$ to be 0.03\n",
        "(multiplying this by $180/\\pi$, this comes to 1.5 degrees).  The Monte\n",
        "Carlo standard error of the mean is 0 (to four decimal places),\n",
        "indicating that the simulations have run long enough to estimate the\n",
        "posterior mean precisely.  When we print the fit with more precision (argument `digits_summary=5`), we see that the posterior standard deviation is\n",
        "calculated at 0.0004 (that is, 0.02 degrees), indicating that $\\sigma$\n",
        "itself has been estimated with high precision, which makes sense given\n",
        "the large number of data points and the simplicity of the model.  The\n",
        "precise posterior distribution of $\\sigma$ can also be seen from the\n",
        "narrow range of the posterior quantiles.  Finally, $\\widehat{R}$ is\n",
        "near 1, telling us that the simulations from Stan's four simulated\n",
        "chains have mixed well.\n",
        "\n",
        "We next plot the data and the fitted model (here using the posterior\n",
        "median of $\\sigma$ but in this case the uncertainty is so narrow that\n",
        "any reasonable posterior summary would give essentially the same\n",
        "result), along with the logistic regression fitted earlier:\n"
      ]
    },
    {
      "cell_type": "code",
      "metadata": {
        "id": "BjfE_IAc-6IM",
        "colab_type": "code",
        "colab": {}
      },
      "source": [
        "sims_trig <- as.matrix(fit_trig)\n",
        "sigma_hat <- median(sims_trig[,\"sigma\"])\n",
        "\n",
        "x_grid <- seq(R-r, 1.1*max(x), .01)\n",
        "p_grid <- 2*pnorm(asin((R-r)/x_grid) / sigma_hat) - 1\n",
        "df = data.frame(x=x_grid, y=p_grid)\n",
        "two_plot <- data_plot + labs(title=\"Two models fit to the golf putting data\")\n",
        "two_plot <- compare_plot + geom_text(x=11, y=0.5, label=\"Logistic regression\")\n",
        "two_plot <- compare_plot + geom_text(x=5.5, y=0.9, label=\"Geometry-based model\")\n",
        "two_plot <- compare_plot + geom_line(data=df, aes(x=x, y=y), color=\"orange\", size=1, na.rm=T)\n",
        "two_plot <- compare_plot + geom_line(data=median_melted, aes(x=x_plus, y=value), size=0.5, color=\"blue\")\n",
        "\n",
        "suppressMessages(print(compare_plot))\n"
      ],
      "execution_count": 0,
      "outputs": []
    },
    {
      "cell_type": "markdown",
      "metadata": {
        "id": "KeArqkRQZs-t",
        "colab_type": "text"
      },
      "source": [
        "The custom geometry-based model fits the data much better.  This is not to\n",
        "say that the model is perfect---any experience of golf will reveal\n",
        "that the angle is not the only factor determining whether the ball\n",
        "goes in the hole---but it seems like a useful start, and it is good to\n",
        "know that we can fit nonlinear models by just coding them up in Stan.\n"
      ]
    },
    {
      "cell_type": "code",
      "metadata": {
        "id": "bS9KW3F2Zwnv",
        "colab_type": "code",
        "colab": {}
      },
      "source": [
        ""
      ],
      "execution_count": 0,
      "outputs": []
    }
  ]
}